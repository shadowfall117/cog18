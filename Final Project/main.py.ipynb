{
 "cells": [
  {
   "cell_type": "markdown",
   "metadata": {},
   "source": [
    "<font size=\"5\"><strong>Project Description</strong></font>\n",
    "<p>This project is a aritifical assitance that will help you to assemble a desktop computer. You can choose the components provided, and put them into users' shopping cart. Users can also calculate the total price of all purchased items in their carts, which can be pretty helpful. However, sometimes the guidelines are not very clear, so please read the README file to make it clear. I will also include an image of an example conversation to let you know what it is like.</p>"
   ]
  },
  {
   "cell_type": "code",
   "execution_count": 1,
   "metadata": {},
   "outputs": [],
   "source": [
    "from my_module.chatbot import*\n",
    "from my_module.test_functions import*"
   ]
  },
  {
   "cell_type": "code",
   "execution_count": 3,
   "metadata": {},
   "outputs": [
    {
     "name": "stdout",
     "output_type": "stream",
     "text": [
      "Hello, I am your artifical assitance, and I can help you to assemble a computer through this chat. There are 7 main components:CPU, GPU, Motherborad, Memory, Cooling, Power, or computer case. Type in any components to begin.\n",
      "Input:\texit\n",
      "See you next time\n"
     ]
    }
   ],
   "source": [
    "have_chat()"
   ]
  },
  {
   "cell_type": "markdown",
   "metadata": {},
   "source": [
    "<font size=\"5\"><strong>Test</strong></font>"
   ]
  },
  {
   "cell_type": "code",
   "execution_count": 2,
   "metadata": {},
   "outputs": [
    {
     "name": "stdout",
     "output_type": "stream",
     "text": [
      "test finished\n"
     ]
    }
   ],
   "source": [
    "check_all()"
   ]
  },
  {
   "cell_type": "code",
   "execution_count": null,
   "metadata": {},
   "outputs": [],
   "source": []
  }
 ],
 "metadata": {
  "kernelspec": {
   "display_name": "Python 3",
   "language": "python",
   "name": "python3"
  },
  "language_info": {
   "codemirror_mode": {
    "name": "ipython",
    "version": 3
   },
   "file_extension": ".py",
   "mimetype": "text/x-python",
   "name": "python",
   "nbconvert_exporter": "python",
   "pygments_lexer": "ipython3",
   "version": "3.6.7"
  }
 },
 "nbformat": 4,
 "nbformat_minor": 2
}
